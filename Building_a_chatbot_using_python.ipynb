{
  "nbformat": 4,
  "nbformat_minor": 0,
  "metadata": {
    "colab": {
      "name": "Building a chatbot using python.ipynb",
      "provenance": [],
      "authorship_tag": "ABX9TyMzd5XjhWA0EyFL6Pook6kN",
      "include_colab_link": true
    },
    "kernelspec": {
      "name": "python3",
      "display_name": "Python 3"
    },
    "language_info": {
      "name": "python"
    }
  },
  "cells": [
    {
      "cell_type": "markdown",
      "metadata": {
        "id": "view-in-github",
        "colab_type": "text"
      },
      "source": [
        "<a href=\"https://colab.research.google.com/github/nbvnaveena1111/chatBot-using-python/blob/main/Building_a_chatbot_using_python.ipynb\" target=\"_parent\"><img src=\"https://colab.research.google.com/assets/colab-badge.svg\" alt=\"Open In Colab\"/></a>"
      ]
    },
    {
      "cell_type": "code",
      "metadata": {
        "id": "nkqKJcUQLx92"
      },
      "source": [
        "import numpy as np\n",
        "import nltk\n",
        "import string\n",
        "import random"
      ],
      "execution_count": null,
      "outputs": []
    },
    {
      "cell_type": "code",
      "metadata": {
        "colab": {
          "base_uri": "https://localhost:8080/"
        },
        "id": "nivFtZQpMLVY",
        "outputId": "24986ae8-02e4-4b7d-c759-ff193e4c0d85"
      },
      "source": [
        "f=open('chatBot.txt','r',errors = 'ignore')\n",
        "raw_doc=f.read()\n",
        "raw_doc=raw_doc.upper() #Converts text to uppercase\n",
        "nltk.download('punkt') #Using the Punkt tokenizer\n",
        "nltk.download('wordnet') #Using the WordNet dictionary\n",
        "sent_tokens = nltk.sent_tokenize(raw_doc) #Converts doc to list of sentences \n",
        "word_tokens = nltk.word_tokenize(raw_doc) #Converts doc to list of words"
      ],
      "execution_count": null,
      "outputs": [
        {
          "output_type": "stream",
          "text": [
            "[nltk_data] Downloading package punkt to /root/nltk_data...\n",
            "[nltk_data]   Package punkt is already up-to-date!\n",
            "[nltk_data] Downloading package wordnet to /root/nltk_data...\n",
            "[nltk_data]   Package wordnet is already up-to-date!\n"
          ],
          "name": "stdout"
        }
      ]
    },
    {
      "cell_type": "code",
      "metadata": {
        "colab": {
          "base_uri": "https://localhost:8080/"
        },
        "id": "Qf6HBR5LP5eC",
        "outputId": "d6acb9f8-a8c1-41aa-c790-338bf2a43589"
      },
      "source": [
        "sent_tokens[:3]"
      ],
      "execution_count": null,
      "outputs": [
        {
          "output_type": "execute_result",
          "data": {
            "text/plain": [
              "['DATA SCIENCE\\nFROM WIKIPEDIA, THE FREE ENCYCLOPEDIA\\nJUMP TO NAVIGATIONJUMP TO SEARCH\\nNOT TO BE CONFUSED WITH INFORMATION SCIENCE.',\n",
              " 'THE EXISTENCE OF COMET NEOWISE (HERE DEPICTED AS A SERIES OF RED DOTS) WAS DISCOVERED BY ANALYZING ASTRONOMICAL SURVEY DATA ACQUIRED BY A SPACE TELESCOPE, THE WIDE-FIELD INFRARED SURVEY EXPLORER.',\n",
              " 'PART OF A SERIES ON\\nMACHINE LEARNING\\nAND DATA MINING\\nMULTI-LAYER NEURAL NETWORK-VECTOR-BLANK.SVG\\nPROBLEMS\\nCLASSIFICATIONCLUSTERINGREGRESSIONANOMALY DETECTIONAUTOMLASSOCIATION RULESREINFORCEMENT LEARNINGSTRUCTURED PREDICTIONFEATURE ENGINEERINGFEATURE LEARNINGONLINE LEARNINGSEMI-SUPERVISED LEARNINGUNSUPERVISED LEARNINGLEARNING TO RANKGRAMMAR INDUCTION\\nSUPERVISED LEARNING\\n(CLASSIFICATION • REGRESSION)\\nDECISION TREESENSEMBLES BAGGINGBOOSTINGRANDOM FORESTK-NNLINEAR REGRESSIONNAIVE BAYESARTIFICIAL NEURAL NETWORKSLOGISTIC REGRESSIONPERCEPTRONRELEVANCE VECTOR MACHINE (RVM)SUPPORT VECTOR MACHINE (SVM)\\nCLUSTERING\\nBIRCHCUREHIERARCHICALK-MEANSEXPECTATION–MAXIMIZATION (EM)\\nDBSCANOPTICSMEAN SHIFT\\nDIMENSIONALITY REDUCTION\\nFACTOR ANALYSISCCAICALDANMFPCAPGDT-SNE\\nSTRUCTURED PREDICTION\\nGRAPHICAL MODELS BAYES NETCONDITIONAL RANDOM FIELDHIDDEN MARKOV\\nANOMALY DETECTION\\nK-NNLOCAL OUTLIER FACTOR\\nARTIFICIAL NEURAL NETWORK\\nAUTOENCODERCOGNITIVE COMPUTINGDEEP LEARNINGDEEPDREAMMULTILAYER PERCEPTRONRNN LSTMGRUESNRESTRICTED BOLTZMANN MACHINEGANSOMCONVOLUTIONAL NEURAL NETWORK U-NETTRANSFORMERSPIKING NEURAL NETWORKMEMTRANSISTORELECTROCHEMICAL RAM (ECRAM)\\nREINFORCEMENT LEARNING\\nQ-LEARNINGSARSATEMPORAL DIFFERENCE (TD)\\nTHEORY\\nBIAS–VARIANCE TRADEOFFCOMPUTATIONAL LEARNING THEORYEMPIRICAL RISK MINIMIZATIONOCCAM LEARNINGPAC LEARNINGSTATISTICAL LEARNINGVC THEORY\\nMACHINE-LEARNING VENUES\\nNEURIPSICMLMLJMLRARXIV:CS.LG\\nRELATED ARTICLES\\nGLOSSARY OF ARTIFICIAL INTELLIGENCELIST OF DATASETS FOR MACHINE-LEARNING RESEARCHOUTLINE OF MACHINE LEARNING\\nVTE\\nDATA SCIENCE IS AN INTERDISCIPLINARY FIELD THAT USES SCIENTIFIC METHODS, PROCESSES, ALGORITHMS AND SYSTEMS TO EXTRACT KNOWLEDGE AND INSIGHTS FROM STRUCTURED AND UNSTRUCTURED DATA,[1][2] AND APPLY KNOWLEDGE AND ACTIONABLE INSIGHTS FROM DATA ACROSS A BROAD RANGE OF APPLICATION DOMAINS.']"
            ]
          },
          "metadata": {
            "tags": []
          },
          "execution_count": 10
        }
      ]
    },
    {
      "cell_type": "code",
      "metadata": {
        "colab": {
          "base_uri": "https://localhost:8080/"
        },
        "id": "Qu4zhKnzQCj9",
        "outputId": "de4f28ab-6d63-4f57-d47f-df2f57d16627"
      },
      "source": [
        "word_tokens[:10]"
      ],
      "execution_count": null,
      "outputs": [
        {
          "output_type": "execute_result",
          "data": {
            "text/plain": [
              "['DATA',\n",
              " 'SCIENCE',\n",
              " 'FROM',\n",
              " 'WIKIPEDIA',\n",
              " ',',\n",
              " 'THE',\n",
              " 'FREE',\n",
              " 'ENCYCLOPEDIA',\n",
              " 'JUMP',\n",
              " 'TO']"
            ]
          },
          "metadata": {
            "tags": []
          },
          "execution_count": 11
        }
      ]
    },
    {
      "cell_type": "code",
      "metadata": {
        "id": "mUJApPnFQSen"
      },
      "source": [
        "#Text processing \n",
        "lemmer = nltk.stem.WordNetLemmatizer()\n",
        "#WordNet is a semantically-oriented dictionary of English included in NLTK.\n",
        "def LemTokens(tokens):\n",
        "    return [lemmer.lemmatize(token) for token in tokens]\n",
        "remove_punct_dict = dict((ord(punct), None) for punct in string.punctuation)\n",
        "def LemNormalize(text):\n",
        "    return LemTokens(nltk.word_tokenize(text.lower().translate(remove_punct_dict)))"
      ],
      "execution_count": null,
      "outputs": []
    },
    {
      "cell_type": "code",
      "metadata": {
        "id": "SMXBdoy9RMoD"
      },
      "source": [
        "#  defining Greeting function\n",
        "GREET_INPUTS = (\"hello\", \"hi\", \"greetings\", \"sup\", \"what's up\",\"hey\")\n",
        "GREET_RESPONSES = [\"hi\", \"hey\", \"*nods*\", \"hi there\", \"hello\", \"I am glad! You are talking to me\"]\n",
        "def greet(sentence):\n",
        " \n",
        "    for word in sentence.split():\n",
        "        if word.lower() in GREET_INPUTS:\n",
        "            return random.choice(GREET_RESPONSES)"
      ],
      "execution_count": null,
      "outputs": []
    },
    {
      "cell_type": "code",
      "metadata": {
        "id": "-gMP4ZReRo4_"
      },
      "source": [
        "#  response generator \n",
        "from sklearn.feature_extraction.text import TfidfVectorizer\n",
        "# Tfidfvectorizer: How rear the occurance of the word in the courpus.\n",
        "from sklearn.metrics.pairwise import cosine_similarity\n",
        "# cosine_similarity :The no of times the word is used in the document to normalize the vector."
      ],
      "execution_count": null,
      "outputs": []
    },
    {
      "cell_type": "code",
      "metadata": {
        "id": "O1WPdLguR-DA"
      },
      "source": [
        "def response(user_response):\n",
        "  robo1_response=''\n",
        "  TfidfVec = TfidfVectorizer(tokenizer=LemNormalize, stop_words='english')\n",
        "  tfidf = TfidfVec.fit_transform(sent_tokens)\n",
        "  vals = cosine_similarity(tfidf[-1], tfidf)\n",
        "  idx=vals.argsort()[0][-2]\n",
        "  flat = vals.flatten()\n",
        "  flat.sort()\n",
        "  req_tfidf = flat[-2]\n",
        "  if(req_tfidf==0):\n",
        "    robo1_response=robo1_response+\"I am sorry! I don't understand you\"\n",
        "    return robo1_response\n",
        "  else:\n",
        "    robo1_response = robo1_response+sent_tokens[idx]\n",
        "    return robo1_response"
      ],
      "execution_count": null,
      "outputs": []
    },
    {
      "cell_type": "code",
      "metadata": {
        "colab": {
          "base_uri": "https://localhost:8080/"
        },
        "id": "dzWwtwfwTxh2",
        "outputId": "1704f909-d280-4531-b32c-cf7bd2e99e7f"
      },
      "source": [
        "# Defining conversation start/end protocols\n",
        "flag=True\n",
        "print(\"BOT: My name is puto. Let's have a conversation! Also, if you want to exit any time, just type Bye!\")\n",
        "while(flag==True):\n",
        "    user_response = input()\n",
        "    user_response=user_response.lower()\n",
        "    if(user_response!='bye'):\n",
        "        if(user_response=='thanks' or user_response=='thank you' ):\n",
        "            flag=False\n",
        "            print(\"BOT: You are welcome..\")\n",
        "        else:\n",
        "            if(greet(user_response)!=None):\n",
        "                print(\"BOT: \"+greet(user_response))\n",
        "            else:\n",
        "                sent_tokens.append(user_response)\n",
        "                word_tokens=word_tokens+nltk.word_tokenize(user_response)\n",
        "                final_words=list(set(word_tokens))\n",
        "                print(\"BOT: \",end=\"\")\n",
        "                print(response(user_response))\n",
        "                sent_tokens.remove(user_response)\n",
        "    else:\n",
        "        flag=False\n",
        "        print(\"BOT: Goodbye! Take care <3 \")"
      ],
      "execution_count": 21,
      "outputs": [
        {
          "output_type": "stream",
          "text": [
            "BOT: My name is puto. Let's have a conversation! Also, if you want to exit any time, just type Bye!\n",
            "hi\n",
            "BOT: hi\n",
            "techniques\n"
          ],
          "name": "stdout"
        },
        {
          "output_type": "stream",
          "text": [
            "/usr/local/lib/python3.7/dist-packages/sklearn/feature_extraction/text.py:385: UserWarning: Your stop_words may be inconsistent with your preprocessing. Tokenizing the stop words generated tokens ['ha', 'le', 'u', 'wa'] not in stop_words.\n",
            "  'stop_words.' % sorted(inconsistent))\n"
          ],
          "name": "stderr"
        },
        {
          "output_type": "stream",
          "text": [
            "BOT: [29]\n",
            "\n",
            "TECHNOLOGIES AND TECHNIQUES\n",
            "THERE ARE A VARIETY OF DIFFERENT TECHNOLOGIES AND TECHNIQUES THAT ARE USED FOR DATA SCIENCE WHICH DEPEND ON THE APPLICATION.\n",
            "thanks\n",
            "BOT: You are welcome..\n"
          ],
          "name": "stdout"
        }
      ]
    }
  ]
}